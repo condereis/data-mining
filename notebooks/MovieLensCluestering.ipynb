{
 "cells": [
  {
   "cell_type": "markdown",
   "metadata": {},
   "source": [
    "**Projeto da disciplina de Data Mining**\n",
    "\n",
    "**PESC - Programa de Engenharia de Sistemas e Computação**\n",
    "\n",
    "**COPPE / UFRJ**\n",
    "\n",
    "Autor: Rafael Lopes Conde dos Reis\n",
    "\n",
    "E-mail: condereis@cos.ufrj.br  \n",
    "\n",
    "# Resumo\n",
    "\n",
    "O trabalho consiste em analisar a aplicação da técnica K-means para clusterizar os filmes da base do MovieLens. Deve-se observar os clusters gerados para diferentes valores de k (15-30), assim como antes e depois de executar redução de dimensionalidade, com PCA (10-15 dimensões).\n",
    "\n",
    "# Pacotes Utilizados"
   ]
  },
  {
   "cell_type": "code",
   "execution_count": 2,
   "metadata": {
    "collapsed": false
   },
   "outputs": [],
   "source": [
    "import numpy as np\n",
    "import pandas as pd\n",
    "import seaborn as sns\n",
    "import matplotlib.pyplot as plt\n",
    "from sklearn.cluster import KMeans \n",
    "from sklearn.decomposition import PCA\n",
    "\n",
    "%matplotlib inline"
   ]
  },
  {
   "cell_type": "markdown",
   "metadata": {
    "collapsed": false
   },
   "source": [
    "# Pré-processamento\n",
    "\n",
    "A base fornecida pelo MovieLens contém 4 colunas (userId, movieId, rating e timestamp), como pode ser visto abaixo. O pré-processamento irá gerar uma matriz *usuários x filmes* tendo todas as avaliações faltantes substituidas pela média da avaliação do filme."
   ]
  },
  {
   "cell_type": "code",
   "execution_count": 3,
   "metadata": {
    "collapsed": false
   },
   "outputs": [
    {
     "data": {
      "text/html": [
       "<div>\n",
       "<table border=\"1\" class=\"dataframe\">\n",
       "  <thead>\n",
       "    <tr style=\"text-align: right;\">\n",
       "      <th></th>\n",
       "      <th>userId</th>\n",
       "      <th>movieId</th>\n",
       "      <th>rating</th>\n",
       "      <th>timestamp</th>\n",
       "    </tr>\n",
       "  </thead>\n",
       "  <tbody>\n",
       "    <tr>\n",
       "      <th>0</th>\n",
       "      <td>1</td>\n",
       "      <td>31</td>\n",
       "      <td>2.5</td>\n",
       "      <td>1260759144</td>\n",
       "    </tr>\n",
       "    <tr>\n",
       "      <th>1</th>\n",
       "      <td>1</td>\n",
       "      <td>1029</td>\n",
       "      <td>3.0</td>\n",
       "      <td>1260759179</td>\n",
       "    </tr>\n",
       "    <tr>\n",
       "      <th>2</th>\n",
       "      <td>1</td>\n",
       "      <td>1061</td>\n",
       "      <td>3.0</td>\n",
       "      <td>1260759182</td>\n",
       "    </tr>\n",
       "    <tr>\n",
       "      <th>3</th>\n",
       "      <td>1</td>\n",
       "      <td>1129</td>\n",
       "      <td>2.0</td>\n",
       "      <td>1260759185</td>\n",
       "    </tr>\n",
       "    <tr>\n",
       "      <th>4</th>\n",
       "      <td>1</td>\n",
       "      <td>1172</td>\n",
       "      <td>4.0</td>\n",
       "      <td>1260759205</td>\n",
       "    </tr>\n",
       "  </tbody>\n",
       "</table>\n",
       "</div>"
      ],
      "text/plain": [
       "   userId  movieId  rating   timestamp\n",
       "0       1       31     2.5  1260759144\n",
       "1       1     1029     3.0  1260759179\n",
       "2       1     1061     3.0  1260759182\n",
       "3       1     1129     2.0  1260759185\n",
       "4       1     1172     4.0  1260759205"
      ]
     },
     "execution_count": 3,
     "metadata": {},
     "output_type": "execute_result"
    }
   ],
   "source": [
    "raw_data = pd.read_csv('../data/movielens/ratings.csv')\n",
    "movie_labels = pd.read_csv('../data/movielens/ratings.csv')\n",
    "raw_data.head()"
   ]
  },
  {
   "cell_type": "code",
   "execution_count": 4,
   "metadata": {
    "collapsed": false
   },
   "outputs": [],
   "source": [
    "# Dataframe com colunas identificadas pelos ids dos filmes\n",
    "ratings_df = pd.DataFrame(\n",
    "    columns=raw_data.movieId.sort_values().unique())\n",
    "\n",
    "for index, row in raw_data.iterrows():\n",
    "    ratings_df.set_value(row.userId, row.movieId, row.rating)"
   ]
  },
  {
   "cell_type": "code",
   "execution_count": 25,
   "metadata": {
    "collapsed": false
   },
   "outputs": [
    {
     "name": "stdout",
     "output_type": "stream",
     "text": [
      "(671, 9066)\n"
     ]
    },
    {
     "data": {
      "text/plain": [
       "0"
      ]
     },
     "execution_count": 25,
     "metadata": {},
     "output_type": "execute_result"
    }
   ],
   "source": [
    "ratings_df = ratings_df.T\n",
    "print ratings_df.shape\n",
    "i=0\n",
    "for index, row in ratings_df.iterrows():\n",
    "    row_null = True\n",
    "    for obj in row:\n",
    "        if obj:\n",
    "            row_null = False\n",
    "    if row_null:\n",
    "        i+=1\n",
    "            \n",
    "    \n",
    "i"
   ]
  },
  {
   "cell_type": "markdown",
   "metadata": {},
   "source": [
    "O resultado é uma matriz repleta de NaNs. Esses valores serão substituidos pela nota média do filme."
   ]
  },
  {
   "cell_type": "code",
   "execution_count": 9,
   "metadata": {
    "collapsed": false
   },
   "outputs": [
    {
     "data": {
      "text/html": [
       "<div>\n",
       "<table border=\"1\" class=\"dataframe\">\n",
       "  <thead>\n",
       "    <tr style=\"text-align: right;\">\n",
       "      <th></th>\n",
       "      <th>1</th>\n",
       "      <th>2</th>\n",
       "      <th>3</th>\n",
       "      <th>4</th>\n",
       "      <th>5</th>\n",
       "      <th>6</th>\n",
       "      <th>7</th>\n",
       "      <th>8</th>\n",
       "      <th>9</th>\n",
       "      <th>10</th>\n",
       "      <th>...</th>\n",
       "      <th>161084</th>\n",
       "      <th>161155</th>\n",
       "      <th>161594</th>\n",
       "      <th>161830</th>\n",
       "      <th>161918</th>\n",
       "      <th>161944</th>\n",
       "      <th>162376</th>\n",
       "      <th>162542</th>\n",
       "      <th>162672</th>\n",
       "      <th>163949</th>\n",
       "    </tr>\n",
       "  </thead>\n",
       "  <tbody>\n",
       "    <tr>\n",
       "      <th>1.0</th>\n",
       "      <td>3.87247</td>\n",
       "      <td>3.401869</td>\n",
       "      <td>3.161017</td>\n",
       "      <td>2.384615</td>\n",
       "      <td>3.267857</td>\n",
       "      <td>3.884615</td>\n",
       "      <td>3.283019</td>\n",
       "      <td>3.8</td>\n",
       "      <td>3.15</td>\n",
       "      <td>3.45082</td>\n",
       "      <td>...</td>\n",
       "      <td>2.5</td>\n",
       "      <td>0.5</td>\n",
       "      <td>3.0</td>\n",
       "      <td>1.0</td>\n",
       "      <td>1.5</td>\n",
       "      <td>5.0</td>\n",
       "      <td>4.5</td>\n",
       "      <td>5.0</td>\n",
       "      <td>3.0</td>\n",
       "      <td>5.0</td>\n",
       "    </tr>\n",
       "    <tr>\n",
       "      <th>2.0</th>\n",
       "      <td>3.87247</td>\n",
       "      <td>3.401869</td>\n",
       "      <td>3.161017</td>\n",
       "      <td>2.384615</td>\n",
       "      <td>3.267857</td>\n",
       "      <td>3.884615</td>\n",
       "      <td>3.283019</td>\n",
       "      <td>3.8</td>\n",
       "      <td>3.15</td>\n",
       "      <td>4.00000</td>\n",
       "      <td>...</td>\n",
       "      <td>2.5</td>\n",
       "      <td>0.5</td>\n",
       "      <td>3.0</td>\n",
       "      <td>1.0</td>\n",
       "      <td>1.5</td>\n",
       "      <td>5.0</td>\n",
       "      <td>4.5</td>\n",
       "      <td>5.0</td>\n",
       "      <td>3.0</td>\n",
       "      <td>5.0</td>\n",
       "    </tr>\n",
       "    <tr>\n",
       "      <th>3.0</th>\n",
       "      <td>3.87247</td>\n",
       "      <td>3.401869</td>\n",
       "      <td>3.161017</td>\n",
       "      <td>2.384615</td>\n",
       "      <td>3.267857</td>\n",
       "      <td>3.884615</td>\n",
       "      <td>3.283019</td>\n",
       "      <td>3.8</td>\n",
       "      <td>3.15</td>\n",
       "      <td>3.45082</td>\n",
       "      <td>...</td>\n",
       "      <td>2.5</td>\n",
       "      <td>0.5</td>\n",
       "      <td>3.0</td>\n",
       "      <td>1.0</td>\n",
       "      <td>1.5</td>\n",
       "      <td>5.0</td>\n",
       "      <td>4.5</td>\n",
       "      <td>5.0</td>\n",
       "      <td>3.0</td>\n",
       "      <td>5.0</td>\n",
       "    </tr>\n",
       "    <tr>\n",
       "      <th>4.0</th>\n",
       "      <td>3.87247</td>\n",
       "      <td>3.401869</td>\n",
       "      <td>3.161017</td>\n",
       "      <td>2.384615</td>\n",
       "      <td>3.267857</td>\n",
       "      <td>3.884615</td>\n",
       "      <td>3.283019</td>\n",
       "      <td>3.8</td>\n",
       "      <td>3.15</td>\n",
       "      <td>4.00000</td>\n",
       "      <td>...</td>\n",
       "      <td>2.5</td>\n",
       "      <td>0.5</td>\n",
       "      <td>3.0</td>\n",
       "      <td>1.0</td>\n",
       "      <td>1.5</td>\n",
       "      <td>5.0</td>\n",
       "      <td>4.5</td>\n",
       "      <td>5.0</td>\n",
       "      <td>3.0</td>\n",
       "      <td>5.0</td>\n",
       "    </tr>\n",
       "    <tr>\n",
       "      <th>5.0</th>\n",
       "      <td>3.87247</td>\n",
       "      <td>3.401869</td>\n",
       "      <td>4.000000</td>\n",
       "      <td>2.384615</td>\n",
       "      <td>3.267857</td>\n",
       "      <td>3.884615</td>\n",
       "      <td>3.283019</td>\n",
       "      <td>3.8</td>\n",
       "      <td>3.15</td>\n",
       "      <td>3.45082</td>\n",
       "      <td>...</td>\n",
       "      <td>2.5</td>\n",
       "      <td>0.5</td>\n",
       "      <td>3.0</td>\n",
       "      <td>1.0</td>\n",
       "      <td>1.5</td>\n",
       "      <td>5.0</td>\n",
       "      <td>4.5</td>\n",
       "      <td>5.0</td>\n",
       "      <td>3.0</td>\n",
       "      <td>5.0</td>\n",
       "    </tr>\n",
       "  </tbody>\n",
       "</table>\n",
       "<p>5 rows × 9066 columns</p>\n",
       "</div>"
      ],
      "text/plain": [
       "      1         2         3         4         5         6         7       \\\n",
       "1.0  3.87247  3.401869  3.161017  2.384615  3.267857  3.884615  3.283019   \n",
       "2.0  3.87247  3.401869  3.161017  2.384615  3.267857  3.884615  3.283019   \n",
       "3.0  3.87247  3.401869  3.161017  2.384615  3.267857  3.884615  3.283019   \n",
       "4.0  3.87247  3.401869  3.161017  2.384615  3.267857  3.884615  3.283019   \n",
       "5.0  3.87247  3.401869  4.000000  2.384615  3.267857  3.884615  3.283019   \n",
       "\n",
       "     8       9        10       ...    161084  161155  161594  161830  161918  \\\n",
       "1.0     3.8    3.15  3.45082   ...       2.5     0.5     3.0     1.0     1.5   \n",
       "2.0     3.8    3.15  4.00000   ...       2.5     0.5     3.0     1.0     1.5   \n",
       "3.0     3.8    3.15  3.45082   ...       2.5     0.5     3.0     1.0     1.5   \n",
       "4.0     3.8    3.15  4.00000   ...       2.5     0.5     3.0     1.0     1.5   \n",
       "5.0     3.8    3.15  3.45082   ...       2.5     0.5     3.0     1.0     1.5   \n",
       "\n",
       "     161944  162376  162542  162672  163949  \n",
       "1.0     5.0     4.5     5.0     3.0     5.0  \n",
       "2.0     5.0     4.5     5.0     3.0     5.0  \n",
       "3.0     5.0     4.5     5.0     3.0     5.0  \n",
       "4.0     5.0     4.5     5.0     3.0     5.0  \n",
       "5.0     5.0     4.5     5.0     3.0     5.0  \n",
       "\n",
       "[5 rows x 9066 columns]"
      ]
     },
     "execution_count": 9,
     "metadata": {},
     "output_type": "execute_result"
    }
   ],
   "source": [
    "# Substitui NaNs pela média das notas do filme\n",
    "# ratings_df.mean(axis=1).shape\n",
    "fill_by_columns = ratings_df.fillna(ratings_df.mean(axis=0),axis=0)\n",
    "fill_by_columns.head()"
   ]
  },
  {
   "cell_type": "code",
   "execution_count": 11,
   "metadata": {
    "collapsed": false
   },
   "outputs": [
    {
     "data": {
      "text/html": [
       "<div>\n",
       "<table border=\"1\" class=\"dataframe\">\n",
       "  <thead>\n",
       "    <tr style=\"text-align: right;\">\n",
       "      <th></th>\n",
       "      <th>1</th>\n",
       "      <th>2</th>\n",
       "      <th>3</th>\n",
       "      <th>4</th>\n",
       "      <th>5</th>\n",
       "      <th>6</th>\n",
       "      <th>7</th>\n",
       "      <th>8</th>\n",
       "      <th>9</th>\n",
       "      <th>10</th>\n",
       "      <th>...</th>\n",
       "      <th>161084</th>\n",
       "      <th>161155</th>\n",
       "      <th>161594</th>\n",
       "      <th>161830</th>\n",
       "      <th>161918</th>\n",
       "      <th>161944</th>\n",
       "      <th>162376</th>\n",
       "      <th>162542</th>\n",
       "      <th>162672</th>\n",
       "      <th>163949</th>\n",
       "    </tr>\n",
       "  </thead>\n",
       "  <tbody>\n",
       "    <tr>\n",
       "      <th>1.0</th>\n",
       "      <td>3.87247</td>\n",
       "      <td>3.87247</td>\n",
       "      <td>3.87247</td>\n",
       "      <td>3.87247</td>\n",
       "      <td>3.87247</td>\n",
       "      <td>3.87247</td>\n",
       "      <td>3.87247</td>\n",
       "      <td>3.87247</td>\n",
       "      <td>3.87247</td>\n",
       "      <td>3.87247</td>\n",
       "      <td>...</td>\n",
       "      <td>3.87247</td>\n",
       "      <td>3.87247</td>\n",
       "      <td>3.87247</td>\n",
       "      <td>3.87247</td>\n",
       "      <td>3.87247</td>\n",
       "      <td>3.87247</td>\n",
       "      <td>3.87247</td>\n",
       "      <td>3.87247</td>\n",
       "      <td>3.87247</td>\n",
       "      <td>3.87247</td>\n",
       "    </tr>\n",
       "    <tr>\n",
       "      <th>2.0</th>\n",
       "      <td>3.40187</td>\n",
       "      <td>3.40187</td>\n",
       "      <td>3.40187</td>\n",
       "      <td>3.40187</td>\n",
       "      <td>3.40187</td>\n",
       "      <td>3.40187</td>\n",
       "      <td>3.40187</td>\n",
       "      <td>3.40187</td>\n",
       "      <td>3.40187</td>\n",
       "      <td>4</td>\n",
       "      <td>...</td>\n",
       "      <td>3.40187</td>\n",
       "      <td>3.40187</td>\n",
       "      <td>3.40187</td>\n",
       "      <td>3.40187</td>\n",
       "      <td>3.40187</td>\n",
       "      <td>3.40187</td>\n",
       "      <td>3.40187</td>\n",
       "      <td>3.40187</td>\n",
       "      <td>3.40187</td>\n",
       "      <td>3.40187</td>\n",
       "    </tr>\n",
       "    <tr>\n",
       "      <th>3.0</th>\n",
       "      <td>3.16102</td>\n",
       "      <td>3.16102</td>\n",
       "      <td>3.16102</td>\n",
       "      <td>3.16102</td>\n",
       "      <td>3.16102</td>\n",
       "      <td>3.16102</td>\n",
       "      <td>3.16102</td>\n",
       "      <td>3.16102</td>\n",
       "      <td>3.16102</td>\n",
       "      <td>3.16102</td>\n",
       "      <td>...</td>\n",
       "      <td>3.16102</td>\n",
       "      <td>3.16102</td>\n",
       "      <td>3.16102</td>\n",
       "      <td>3.16102</td>\n",
       "      <td>3.16102</td>\n",
       "      <td>3.16102</td>\n",
       "      <td>3.16102</td>\n",
       "      <td>3.16102</td>\n",
       "      <td>3.16102</td>\n",
       "      <td>3.16102</td>\n",
       "    </tr>\n",
       "    <tr>\n",
       "      <th>4.0</th>\n",
       "      <td>2.38462</td>\n",
       "      <td>2.38462</td>\n",
       "      <td>2.38462</td>\n",
       "      <td>2.38462</td>\n",
       "      <td>2.38462</td>\n",
       "      <td>2.38462</td>\n",
       "      <td>2.38462</td>\n",
       "      <td>2.38462</td>\n",
       "      <td>2.38462</td>\n",
       "      <td>4</td>\n",
       "      <td>...</td>\n",
       "      <td>2.38462</td>\n",
       "      <td>2.38462</td>\n",
       "      <td>2.38462</td>\n",
       "      <td>2.38462</td>\n",
       "      <td>2.38462</td>\n",
       "      <td>2.38462</td>\n",
       "      <td>2.38462</td>\n",
       "      <td>2.38462</td>\n",
       "      <td>2.38462</td>\n",
       "      <td>2.38462</td>\n",
       "    </tr>\n",
       "    <tr>\n",
       "      <th>5.0</th>\n",
       "      <td>3.26786</td>\n",
       "      <td>3.26786</td>\n",
       "      <td>4</td>\n",
       "      <td>3.26786</td>\n",
       "      <td>3.26786</td>\n",
       "      <td>3.26786</td>\n",
       "      <td>3.26786</td>\n",
       "      <td>3.26786</td>\n",
       "      <td>3.26786</td>\n",
       "      <td>3.26786</td>\n",
       "      <td>...</td>\n",
       "      <td>3.26786</td>\n",
       "      <td>3.26786</td>\n",
       "      <td>3.26786</td>\n",
       "      <td>3.26786</td>\n",
       "      <td>3.26786</td>\n",
       "      <td>3.26786</td>\n",
       "      <td>3.26786</td>\n",
       "      <td>3.26786</td>\n",
       "      <td>3.26786</td>\n",
       "      <td>3.26786</td>\n",
       "    </tr>\n",
       "  </tbody>\n",
       "</table>\n",
       "<p>5 rows × 9066 columns</p>\n",
       "</div>"
      ],
      "text/plain": [
       "      1        2        3        4        5        6        7        8       \\\n",
       "1.0  3.87247  3.87247  3.87247  3.87247  3.87247  3.87247  3.87247  3.87247   \n",
       "2.0  3.40187  3.40187  3.40187  3.40187  3.40187  3.40187  3.40187  3.40187   \n",
       "3.0  3.16102  3.16102  3.16102  3.16102  3.16102  3.16102  3.16102  3.16102   \n",
       "4.0  2.38462  2.38462  2.38462  2.38462  2.38462  2.38462  2.38462  2.38462   \n",
       "5.0  3.26786  3.26786        4  3.26786  3.26786  3.26786  3.26786  3.26786   \n",
       "\n",
       "      9        10       ...      161084   161155   161594   161830   161918  \\\n",
       "1.0  3.87247  3.87247   ...     3.87247  3.87247  3.87247  3.87247  3.87247   \n",
       "2.0  3.40187        4   ...     3.40187  3.40187  3.40187  3.40187  3.40187   \n",
       "3.0  3.16102  3.16102   ...     3.16102  3.16102  3.16102  3.16102  3.16102   \n",
       "4.0  2.38462        4   ...     2.38462  2.38462  2.38462  2.38462  2.38462   \n",
       "5.0  3.26786  3.26786   ...     3.26786  3.26786  3.26786  3.26786  3.26786   \n",
       "\n",
       "      161944   162376   162542   162672   163949  \n",
       "1.0  3.87247  3.87247  3.87247  3.87247  3.87247  \n",
       "2.0  3.40187  3.40187  3.40187  3.40187  3.40187  \n",
       "3.0  3.16102  3.16102  3.16102  3.16102  3.16102  \n",
       "4.0  2.38462  2.38462  2.38462  2.38462  2.38462  \n",
       "5.0  3.26786  3.26786  3.26786  3.26786  3.26786  \n",
       "\n",
       "[5 rows x 9066 columns]"
      ]
     },
     "execution_count": 11,
     "metadata": {},
     "output_type": "execute_result"
    }
   ],
   "source": [
    "# Substitui NaNs pela média das notas do user\n",
    "fill_by_rows = ratings_df.T.fillna(ratings_df.mean()).T\n",
    "fill_by_rows.head()"
   ]
  },
  {
   "cell_type": "code",
   "execution_count": 14,
   "metadata": {
    "collapsed": false
   },
   "outputs": [
    {
     "name": "stdout",
     "output_type": "stream",
     "text": [
      "-100179.088547\n",
      "-112244.202116\n"
     ]
    }
   ],
   "source": [
    "kmeans = KMeans(n_clusters=15, init='k-means++', n_init=10, n_jobs=-1).fit(fill_by_columns.transpose())\n",
    "print kmeans.score(fill_by_columns.transpose())\n",
    "kmeans = KMeans(n_clusters=15, init='k-means++', n_init=10, n_jobs=-1).fit(fill_by_rows.transpose()))\n",
    "print kmeans.score(fill_by_rows.transpose())"
   ]
  },
  {
   "cell_type": "code",
   "execution_count": 13,
   "metadata": {
    "collapsed": true
   },
   "outputs": [],
   "source": [
    "# Salva o dataframe em arquivo para facilitar o acesso\n",
    "ratings_df.to_csv('../data/movielens/input_matrix.csv',\n",
    "                  index=False)"
   ]
  },
  {
   "cell_type": "markdown",
   "metadata": {},
   "source": [
    "# Clusterização sem Redução de Dimensionalidade\n",
    "O primeiro passo é aplicas k-means a matriz de dados completa, sem nenhuma forma de redução de dimensionalidade."
   ]
  },
  {
   "cell_type": "code",
   "execution_count": 14,
   "metadata": {
    "collapsed": true
   },
   "outputs": [],
   "source": [
    "ratings_df = pd.read_csv('../data/movielens/input_matrix.csv')"
   ]
  },
  {
   "cell_type": "markdown",
   "metadata": {},
   "source": [
    "Serão treinados 15 modelos diferentes, variando o número de clusters entre 15 e 30. Para cada modelo foram feitas 10 inicializações (n_init=10) e escolhida a melhor, para tentar encontrar um modelo mais próximo do mínimo global, uma vez que k-means apenas garante convergência para um mínimo local. A inicialização usada foi a k-means++, que inicia os centroides afastados uns dos outros, o que tende a garantir melhores resultados que uma inicialização aleatória [1]."
   ]
  },
  {
   "cell_type": "code",
   "execution_count": 24,
   "metadata": {
    "collapsed": false
   },
   "outputs": [],
   "source": [
    "score_list = []\n",
    "for k in range(15,31):\n",
    "    kmeans = KMeans(n_clusters=k, init='k-means++', n_init=10,\n",
    "                    n_jobs=-1).fit(ratings_df.transpose())\n",
    "    score_list.append(kmeans.score(ratings_df.transpose()))"
   ]
  },
  {
   "cell_type": "code",
   "execution_count": 31,
   "metadata": {
    "collapsed": false
   },
   "outputs": [
    {
     "data": {
      "text/plain": [
       "<matplotlib.text.Text at 0x7fc8975d8910>"
      ]
     },
     "execution_count": 31,
     "metadata": {},
     "output_type": "execute_result"
    },
    {
     "data": {
      "image/png": "[encoded data removed]",
      "text/plain": [
       "<matplotlib.figure.Figure at 0x7fc8980bb4d0>"
      ]
     },
     "metadata": {},
     "output_type": "display_data"
    }
   ],
   "source": [
    "plt.plot(range(15,31), score_list)\n",
    "plt.title('Desempenho ao variar k')\n",
    "plt.xlabel('Numero de clusters')\n",
    "plt.ylabel(u'Soma das distâncias aos centroides')"
   ]
  },
  {
   "cell_type": "markdown",
   "metadata": {},
   "source": [
    "# Aplicando PCA aos Dados"
   ]
  },
  {
   "cell_type": "code",
   "execution_count": 44,
   "metadata": {
    "collapsed": false
   },
   "outputs": [],
   "source": [
    "score_list = []\n",
    "for n_comp in range(1,16):\n",
    "    pca = PCA(n_components=n_comp, svd_solver='arpack')\n",
    "    matrix_reduc = pca.fit_transform(ratings_df.transpose())\n",
    "    kmeans = KMeans(n_clusters=30, init='k-means++', n_init=10,\n",
    "                    n_jobs=-1).fit(matrix_reduc)\n",
    "    score_list.append(kmeans.score(matrix_reduc))"
   ]
  },
  {
   "cell_type": "code",
   "execution_count": 45,
   "metadata": {
    "collapsed": false
   },
   "outputs": [
    {
     "data": {
      "text/plain": [
       "<matplotlib.text.Text at 0x7fc89806d910>"
      ]
     },
     "execution_count": 45,
     "metadata": {},
     "output_type": "execute_result"
    },
    {
     "data": {
      "image/png": "[encoded data removed]",
      "text/plain": [
       "<matplotlib.figure.Figure at 0x7fc897338110>"
      ]
     },
     "metadata": {},
     "output_type": "display_data"
    }
   ],
   "source": [
    "plt.plot(range(1,16), score_list)\n",
    "plt.title(u'Desempenho ao Variar o Número de Componentes Principais')\n",
    "plt.xlabel(u'Numero de Componentes Principais')\n",
    "plt.ylabel(u'Soma das distâncias aos centroides')"
   ]
  },
  {
   "cell_type": "code",
   "execution_count": 83,
   "metadata": {
    "collapsed": false
   },
   "outputs": [
    {
     "name": "stdout",
     "output_type": "stream",
     "text": [
      "(9066, 2)\n"
     ]
    },
    {
     "data": {
      "text/plain": [
       "([], <a list of 0 Text yticklabel objects>)"
      ]
     },
     "execution_count": 83,
     "metadata": {},
     "output_type": "execute_result"
    },
    {
     "data": {
      "image/png": "[encoded data removed]",
      "text/plain": [
       "<matplotlib.figure.Figure at 0x7fc8981720d0>"
      ]
     },
     "metadata": {},
     "output_type": "display_data"
    }
   ],
   "source": [
    "reduced_data = PCA(n_components=2).fit_transform(ratings_df.transpose())\n",
    "kmeans = KMeans(init='k-means++', n_clusters=15, n_init=10)\n",
    "kmeans.fit(reduced_data)\n",
    "print reduced_data.shape\n",
    "# Step size of the mesh. Decrease to increase the quality of the VQ.\n",
    "h = .02     # point in the mesh [x_min, x_max]x[y_min, y_max].\n",
    "\n",
    "# Plot the decision boundary. For that, we will assign a color to each\n",
    "x_min, x_max = reduced_data[:, 0].min() - 1, reduced_data[:, 0].max() + 1\n",
    "y_min, y_max = reduced_data[:, 1].min() - 1, reduced_data[:, 1].max() + 1\n",
    "xx, yy = np.meshgrid(np.arange(x_min, x_max, h), np.arange(y_min, y_max, h))\n",
    "\n",
    "# Obtain labels for each point in mesh. Use last trained model.\n",
    "Z = kmeans.predict(np.c_[xx.ravel(), yy.ravel()])\n",
    "\n",
    "# Put the result into a color plot\n",
    "Z = Z.reshape(xx.shape)\n",
    "plt.figure(1)\n",
    "plt.clf()\n",
    "plt.imshow(Z, interpolation='nearest',\n",
    "           extent=(xx.min(), xx.max(), yy.min(), yy.max()),\n",
    "           cmap=plt.cm.Paired,\n",
    "           aspect='auto', origin='lower')\n",
    "\n",
    "plt.plot(reduced_data[:, 0], reduced_data[:, 1], 'k.', markersize=2)\n",
    "# Plot the centroids as a white X\n",
    "\n",
    "plt.title('K-means clustering on the digits dataset (PCA-reduced data)\\n'\n",
    "          'Centroids are marked with white cross')\n",
    "plt.xlim(x_min, x_max)\n",
    "plt.ylim(y_min, y_max)\n",
    "plt.xticks(())\n",
    "plt.yticks(())"
   ]
  },
  {
   "cell_type": "code",
   "execution_count": 90,
   "metadata": {
    "collapsed": false
   },
   "outputs": [
    {
     "name": "stdout",
     "output_type": "stream",
     "text": [
      "12 4 10 9 2 14\n"
     ]
    }
   ],
   "source": [
    "out = pd.Series(kmeans.predict(reduced_data), index=ratings_df.transpose().index)\n",
    "\n",
    "# # ratings_df.transpose().loc['163949']\n",
    "print out.loc['2628'],out.loc['5378'],out.loc['33493'],out.loc['61160'],out.loc['122886'],out.loc['260']"
   ]
  },
  {
   "cell_type": "markdown",
   "metadata": {},
   "source": [
    "# Clusterização com Redução de Dimensionalidade"
   ]
  },
  {
   "cell_type": "code",
   "execution_count": 38,
   "metadata": {
    "collapsed": false
   },
   "outputs": [],
   "source": [
    "score_list = []\n",
    "for k in range(15,31):\n",
    "    kmeans = KMeans(n_clusters=k, init='k-means++', n_init=10,\n",
    "                    n_jobs=-1).fit(matrix_reduc)\n",
    "    score_list.append(kmeans.score(matrix_reduc))"
   ]
  },
  {
   "cell_type": "code",
   "execution_count": 39,
   "metadata": {
    "collapsed": false
   },
   "outputs": [
    {
     "data": {
      "text/plain": [
       "<matplotlib.text.Text at 0x7fc8975c1c10>"
      ]
     },
     "execution_count": 39,
     "metadata": {},
     "output_type": "execute_result"
    },
    {
     "data": {
      "image/png": "[encoded data removed]",
      "text/plain": [
       "<matplotlib.figure.Figure at 0x7fc897efb810>"
      ]
     },
     "metadata": {},
     "output_type": "display_data"
    }
   ],
   "source": [
    "plt.plot(range(15,31), score_list)\n",
    "plt.title('Desempenho ao variar k')\n",
    "plt.xlabel('Numero de clusters')\n",
    "plt.ylabel(u'Soma das distâncias aos centroides')"
   ]
  },
  {
   "cell_type": "markdown",
   "metadata": {},
   "source": [
    "# Referências\n",
    "[1] - [“k-means++: The advantages of careful seeding”](http://ilpubs.stanford.edu:8090/778/1/2006-13.pdf) Arthur, David, and Sergei Vassilvitskii, Proceedings of the eighteenth annual ACM-SIAM symposium on Discrete algorithms, Society for Industrial and Applied Mathematics (2007)"
   ]
  }
 ],
 "metadata": {
  "kernelspec": {
   "display_name": "Python 2",
   "language": "python",
   "name": "python2"
  },
  "language_info": {
   "codemirror_mode": {
    "name": "ipython",
    "version": 2
   },
   "file_extension": ".py",
   "mimetype": "text/x-python",
   "name": "python",
   "nbconvert_exporter": "python",
   "pygments_lexer": "ipython2",
   "version": "2.7.12"
  }
 },
 "nbformat": 4,
 "nbformat_minor": 0
}
